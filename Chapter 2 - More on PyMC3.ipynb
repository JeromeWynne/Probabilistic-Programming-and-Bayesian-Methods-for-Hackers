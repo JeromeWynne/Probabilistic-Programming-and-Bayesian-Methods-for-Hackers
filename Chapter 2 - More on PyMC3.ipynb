{
 "cells": [
  {
   "cell_type": "markdown",
   "metadata": {},
   "source": [
    "# Chapter 2: More on PyMC3"
   ]
  },
  {
   "cell_type": "markdown",
   "metadata": {},
   "source": [
    "### Model context"
   ]
  },
  {
   "cell_type": "markdown",
   "metadata": {},
   "source": [
    "- Model variables are associated with a model by defining them in context."
   ]
  },
  {
   "cell_type": "markdown",
   "metadata": {},
   "source": [
    "`parameter` -> Exponentially distributed r.v.\n",
    "\n",
    "`data_generator` -> Poisson distributed r.v. with $\\lambda$=`parameter`"
   ]
  },
  {
   "cell_type": "code",
   "execution_count": 15,
   "metadata": {
    "collapsed": true
   },
   "outputs": [],
   "source": [
    "import pymc3 as pm\n",
    "import numpy as np"
   ]
  },
  {
   "cell_type": "code",
   "execution_count": 3,
   "metadata": {
    "collapsed": true
   },
   "outputs": [],
   "source": [
    "with model: # To pick up a model again later\n",
    "    data_plus_one = data_generator + 1 # Pois RV + 1"
   ]
  },
  {
   "cell_type": "code",
   "execution_count": 5,
   "metadata": {
    "collapsed": false
   },
   "outputs": [
    {
     "data": {
      "text/plain": [
       "array(0.49999999904767284)"
      ]
     },
     "execution_count": 5,
     "metadata": {},
     "output_type": "execute_result"
    }
   ],
   "source": [
    "# Can examine variables outside of model context\n",
    "parameter.tag.test_value # Initial value of variable\n",
    "# ^ Can be specified at variable creation time"
   ]
  },
  {
   "cell_type": "markdown",
   "metadata": {},
   "source": [
    "- Multiple models can be manipulated simultaneously"
   ]
  },
  {
   "cell_type": "code",
   "execution_count": 6,
   "metadata": {
    "collapsed": true
   },
   "outputs": [],
   "source": [
    "# Manipulating a separate model:\n",
    "with pm.Model() as ab_testing:\n",
    "    sigma = pm.Normal('std', 0, 1)\n",
    "    p_A = pm.Uniform('p(A)', 0, 1)"
   ]
  },
  {
   "cell_type": "markdown",
   "metadata": {},
   "source": [
    "Types of programming variables in PyMC3:\n",
    "- Stochastic variables: variables drawn from a probability distribution (i.e. random variables).\n",
    "- Deterministic variables: variables that are not random if the variables' parameters and components are known."
   ]
  },
  {
   "cell_type": "markdown",
   "metadata": {},
   "source": [
    "### Stochastic Variables"
   ]
  },
  {
   "cell_type": "code",
   "execution_count": 10,
   "metadata": {
    "collapsed": false
   },
   "outputs": [],
   "source": [
    "with pm.Model() as model:\n",
    "    some_variable = pm.DiscreteUniform('discrete_uni_var', 0, 4)\n",
    "    # Name attribute is used to retrieve posterior distribution later\n",
    "    # Instead of initializing id. distr. variabels separately...\n",
    "    # beta_1 = pm.Uniform('beta_1', 0, 1)\n",
    "    # beta_2 = pm.Uniform('beta_2', 0, 1)\n",
    "    # ... use the 'shape' argument!\n",
    "    N = 10\n",
    "    betas = pm.Uniform('betas', 0, 1, shape=N)\n"
   ]
  },
  {
   "cell_type": "markdown",
   "metadata": {},
   "source": [
    "### Deterministic Variables"
   ]
  },
  {
   "cell_type": "markdown",
   "metadata": {},
   "source": [
    "- Deterministic variables have known values if the parameters to the functions they evaluate from are known."
   ]
  },
  {
   "cell_type": "code",
   "execution_count": 14,
   "metadata": {
    "collapsed": true
   },
   "outputs": [],
   "source": [
    "with model:\n",
    "    deterministic_variables = pm.Deterministic('deterministic variables',\n",
    "                                               some_variable*2)"
   ]
  },
  {
   "cell_type": "code",
   "execution_count": 5,
   "metadata": {
    "collapsed": true
   },
   "outputs": [],
   "source": [
    "with pm.Model() as model:\n",
    "    lambda_1 = pm.Exponential('lambda_1', 1)\n",
    "    lambda_2 = pm.Exponential('lambda_2', 1)\n",
    "    tau = pm.DiscreteUniform('tau', lower=0, upper=10)\n",
    "\n",
    "# Elementary operations implicitly create deterministic variables\n",
    "new_deterministic_variable = lambda_1 + lambda_2\n",
    "# if lambda_1 and lambda_2 are known, then we know new_det..."
   ]
  },
  {
   "cell_type": "code",
   "execution_count": 18,
   "metadata": {
    "collapsed": false
   },
   "outputs": [],
   "source": [
    "import numpy as np\n",
    "\n",
    "n_data_points = 5\n",
    "idx = np.arange(n_data_points)\n",
    "with model:\n",
    "    lambda_ = pm.math.switch(tau >= idx, lambda_1, lambda_2)\n",
    "    \n",
    "# lambda_ is deterministic\n",
    "# if we know tau, lambda_1, lambda_2, we know lambda_"
   ]
  },
  {
   "cell_type": "markdown",
   "metadata": {},
   "source": [
    "- Stochastic variables behave like scalars/numpy arrays within deterministic variables -> can use Theano's tensor operations on them."
   ]
  },
  {
   "cell_type": "code",
   "execution_count": 17,
   "metadata": {
    "collapsed": false
   },
   "outputs": [],
   "source": [
    "def multiply(x, y):\n",
    "        return np.multiply(x, y) # Hadamard product\n",
    "\n",
    "with model:\n",
    "    stoch_1 = pm.Uniform('U_1', 0, 1)\n",
    "    stoch_2 = pm.Uniform('U_2', 0, 1)\n",
    "\n",
    "    det_1 = pm.Deterministic('Product', multiply(stoch_1, stoch_2))"
   ]
  },
  {
   "cell_type": "markdown",
   "metadata": {},
   "source": [
    "### Theano"
   ]
  },
  {
   "cell_type": "markdown",
   "metadata": {},
   "source": [
    "- Theano builds a compute graph that can be executed at a time of our choosing using `eval()`\n",
    "- Compute graph is desirable because:\n",
    "    - We can easily simplify operations\n",
    "    - We can compile the graph to C\n",
    "    - We can compile to run on a GPU\n",
    "    \n",
    "\"PyMC3 is basically a collection of `theano` symbolic expressions for various probability distributions that are combined to one big compute graph making up the whole model log probability, and a collection of inference algorithms that use that graph to compute probabilities and gradients\""
   ]
  },
  {
   "cell_type": "code",
   "execution_count": 4,
   "metadata": {
    "collapsed": false
   },
   "outputs": [],
   "source": [
    "# PyMC3 code with Theano spice\n",
    "import theano.tensor as tt\n",
    "\n",
    "with pm.Model() as theano_test:\n",
    "    p1 = pm.Uniform('p', 0, 1) # Theano variable\n",
    "    p2 = 1 - p1 # ... another Theano variable\n",
    "    p = tt.stack([[p1, p2]]) # Combines into one Theano variable (a vector)\n",
    "    # p are category probabilities\n",
    "    assignment = pm.Categorical('assignment', p) "
   ]
  },
  {
   "cell_type": "markdown",
   "metadata": {},
   "source": [
    "### Including observations in the Model"
   ]
  },
  {
   "cell_type": "code",
   "execution_count": 13,
   "metadata": {
    "collapsed": false
   },
   "outputs": [
    {
     "data": {
      "image/png": "[encoded data removed]",
      "text/plain": [
       "<matplotlib.figure.Figure at 0xbeb49e8>"
      ]
     },
     "metadata": {},
     "output_type": "display_data"
    }
   ],
   "source": [
    "import matplotlib.pyplot as plt\n",
    "from scipy import stats\n",
    "%matplotlib inline\n",
    "plt.style.use('bmh')\n",
    "\n",
    "samples = [lambda_1.random()[0] for i in range(20000)]\n",
    "plt.hist(samples, bins=70, normed=True, histtype='stepfilled')\n",
    "plt.title('Prior distribution for $\\lambda_1$')\n",
    "plt.xlim(0, 8);\n",
    "plt.ylabel('f(x)'); plt.xlabel('x');"
   ]
  },
  {
   "cell_type": "markdown",
   "metadata": {},
   "source": [
    "1. Get 20 000 samples of `lambda_1`, an Exponential distributed r.v.\n",
    "2. Plot the observations in a normed histogram $\\implies$ plot of the probability density function of the r.v."
   ]
  },
  {
   "cell_type": "markdown",
   "metadata": {},
   "source": [
    "To specify the initial values an r.v. takes on, pass the desired values as a `np` or `pd` array to the `observed` argument of the relevant distribution's function."
   ]
  },
  {
   "cell_type": "code",
   "execution_count": 16,
   "metadata": {
    "collapsed": false
   },
   "outputs": [
    {
     "name": "stdout",
     "output_type": "stream",
     "text": [
      "value:  [10  5]\n"
     ]
    }
   ],
   "source": [
    "data = np.array([10, 5])\n",
    "with model:\n",
    "    fixed_variable = pm.Poisson('fxd', 1, observed=data)\n",
    "print('value: ', fixed_variable.tag.test_value)"
   ]
  },
  {
   "cell_type": "code",
   "execution_count": 19,
   "metadata": {
    "collapsed": false
   },
   "outputs": [
    {
     "name": "stdout",
     "output_type": "stream",
     "text": [
      "[10 25 15 20 35]\n"
     ]
    }
   ],
   "source": [
    "data = np.array([10, 25, 15, 20, 35])\n",
    "with model:\n",
    "    obs = pm.Poisson('obs', lambda_, observed=data)\n",
    "print(obs.tag.test_value)"
   ]
  },
  {
   "cell_type": "markdown",
   "metadata": {},
   "source": [
    "## Modeling approaches"
   ]
  },
  {
   "cell_type": "markdown",
   "metadata": {},
   "source": [
    "- Start by thinking about how your data might have been generated: how would you recreate the data?\n",
    "\n",
    "Text messaging Poisson process modeling example:\n",
    "1. What is the best random variable to describe this count data? A Poisson r.v. was a good choice because it can count the total occurences of an event in a timeframe (e.g. a day).\n",
    "2. Next, what are the parameters of the Poisson distribution? Here there's only one: the rate parameter, $\\lambda$.\n",
    "3. Is $\\lambda$ known? No, it was though there might be two different values for $\\lambda$, one for earlier in the time series and one for later. We think it might switch at some point, but we're not sure when. Call the switchpoint $\\tau$.\n",
    "4. What is a good distribution for the Poisson parameters? The Exponential is good, as it assigns probabilities to positive real numbers only. The Exponential distribution also has a parameter too though, $\\alpha$.\n",
    "5. We don't know $\\alpha$, nor do we really know what $\\alpha$ might be. Here we draw the line, and assign $\\alpha$ a fixed value.\n",
    "\n",
    "What is a good value for $\\alpha$? Using our data, we can establish that the $\\lambda$ values are between 10-30, so we should choose $\\alpha$ such that the mean of $\\lambda$ given $\\alpha$ is equal to the observed mean.\n",
    "\n",
    "We also need to figure out how what $\\tau$ might be. We could guess this, but a Discrete Uniform distribution over the timespan is just fine."
   ]
  },
  {
   "cell_type": "markdown",
   "metadata": {},
   "source": [
    "<img src='http://i.imgur.com/7J30oCG.png'/>"
   ]
  },
  {
   "cell_type": "markdown",
   "metadata": {},
   "source": [
    "This is a graph of our model. We can think of this as a data-generation 'story': $\\alpha$ is used to generate two Poisson parameters from an Exponential distribution, which constitute the distribution of the rate parameter over the entire time series. $\\tau$ contributes to this distribution by indicating when the switchover occurs."
   ]
  },
  {
   "cell_type": "markdown",
   "metadata": {},
   "source": [
    "If we reverse the above derivation of how the data might have been generated, we can create our own data generation process."
   ]
  },
  {
   "cell_type": "markdown",
   "metadata": {},
   "source": [
    "1. Get a switchover value."
   ]
  },
  {
   "cell_type": "code",
   "execution_count": 20,
   "metadata": {
    "collapsed": false
   },
   "outputs": [
    {
     "name": "stdout",
     "output_type": "stream",
     "text": [
      "9\n"
     ]
    }
   ],
   "source": [
    "tau = np.random.randint(0, 80) # Value of a Uniform dist r.v.\n",
    "print(tau)"
   ]
  },
  {
   "cell_type": "markdown",
   "metadata": {},
   "source": [
    "/2. Draw two rate parameters from an Exponential distribution."
   ]
  },
  {
   "cell_type": "code",
   "execution_count": 21,
   "metadata": {
    "collapsed": false
   },
   "outputs": [
    {
     "name": "stdout",
     "output_type": "stream",
     "text": [
      "12.8061154188 6.20251122955\n"
     ]
    }
   ],
   "source": [
    "alpha = 1./20.\n",
    "lambda_1, lambda_2 = np.random.exponential(scale=1/alpha, size=2)\n",
    "print(lambda_1, lambda_2)"
   ]
  },
  {
   "cell_type": "markdown",
   "metadata": {},
   "source": [
    "/3. Make observations according to these Poisson distributions before and after the switchover."
   ]
  },
  {
   "cell_type": "code",
   "execution_count": 25,
   "metadata": {
    "collapsed": true
   },
   "outputs": [],
   "source": [
    "data = np.r_[stats.poisson.rvs(mu=lambda_1, size=tau), stats.poisson.rvs(mu=lambda_2, size=80-tau)]"
   ]
  },
  {
   "cell_type": "markdown",
   "metadata": {},
   "source": [
    "/4. Plot the artificial data:"
   ]
  },
  {
   "cell_type": "code",
   "execution_count": 47,
   "metadata": {
    "collapsed": false
   },
   "outputs": [
    {
     "data": {
      "image/png": "[encoded data removed]",
      "text/plain": [
       "<matplotlib.figure.Figure at 0xd013710>"
      ]
     },
     "metadata": {},
     "output_type": "display_data"
    }
   ],
   "source": [
    "plt.figure(figsize=(15, 5))\n",
    "plt.title('Synthetic received message counts per day')\n",
    "plt.bar(range(80), data, width=0.9)\n",
    "plt.xlabel('Day'); plt.ylabel('Number of messages')\n",
    "plt.axvline(x=tau, ymax=max(data), color='r', lw=3);\n",
    "plt.text(tau+1, max(data)-3, 'User behaviour changed', color='r', size=16);"
   ]
  },
  {
   "cell_type": "markdown",
   "metadata": {},
   "source": [
    "PyMC3 is designed to find parameters that will match our generated data against our observed data."
   ]
  },
  {
   "cell_type": "code",
   "execution_count": 50,
   "metadata": {
    "collapsed": false
   },
   "outputs": [
    {
     "data": {
      "image/png": "[encoded data removed]",
      "text/plain": [
       "<matplotlib.figure.Figure at 0xddb8f98>"
      ]
     },
     "metadata": {},
     "output_type": "display_data"
    }
   ],
   "source": [
    "def plot_artificial_sms_dataset():\n",
    "    tau = stats.randint.rvs(0, 80)\n",
    "    alpha = 1./20.\n",
    "    lambda_1, lambda_2 = stats.expon.rvs(scale=1/alpha, size=2)\n",
    "    data = np.r_[stats.poisson.rvs(mu=lambda_1, size=tau), stats.poisson.rvs(mu=lambda_2, size=80 - tau)]\n",
    "    plt.bar(np.arange(80), data, color=\"#348ABD\")\n",
    "    plt.bar(tau - 1, data[tau-1], color=\"r\", label=\"user behaviour changed\")\n",
    "    plt.xlim(0, 80);\n",
    "\n",
    "plt.figure(figsize=(15, 7))\n",
    "plt.title(\"More example of artificial datasets\")\n",
    "for i in range(4):\n",
    "    plt.subplot(4, 1, i+1)\n",
    "    plot_artificial_sms_dataset()"
   ]
  },
  {
   "cell_type": "markdown",
   "metadata": {},
   "source": [
    "### Example: Bayesian A/B testing"
   ]
  },
  {
   "cell_type": "markdown",
   "metadata": {},
   "source": [
    "- 'A/B testing is an experiment design for determining the difference of effectiveness between two different treatments'\n",
    "- To create a Bayesian model, we need prior distributions for our unknown quantities. If we have no persuasions towards any particular value, a Uniform distribution is perfectly OK."
   ]
  },
  {
   "cell_type": "markdown",
   "metadata": {},
   "source": [
    "Scenario: Users visiting website A, seeking the true probability - $p_A$ - that visitors purchase something from the website. $N$ visitors to site A. $n$ buy something."
   ]
  },
  {
   "cell_type": "code",
   "execution_count": 83,
   "metadata": {
    "collapsed": false
   },
   "outputs": [],
   "source": [
    "import pymc as pm\n",
    "\n",
    "p = pm.Uniform('p', lower=0, upper=1)"
   ]
  },
  {
   "cell_type": "code",
   "execution_count": 95,
   "metadata": {
    "collapsed": false
   },
   "outputs": [
    {
     "name": "stdout",
     "output_type": "stream",
     "text": [
      "0.046\n"
     ]
    }
   ],
   "source": [
    "# True pA = 0.05, N = 1500\n",
    "# Will simulate whether users made a purchase or not\n",
    "# X is r.v. for purchase count\n",
    "# X ~ Bern(pA)\n",
    "\n",
    "p_true = 0.05 # Is actually unknown\n",
    "N = 1500\n",
    "occurences = pm.rbernoulli(p_true, N) # array of observations\n",
    "print(occurences.sum()/N) # Nb. != p_true!"
   ]
  },
  {
   "cell_type": "code",
   "execution_count": 97,
   "metadata": {
    "collapsed": false
   },
   "outputs": [
    {
     "name": "stdout",
     "output_type": "stream",
     "text": [
      " [-----------------100%-----------------] 18000 of 18000 complete in 11.2 sec"
     ]
    },
    {
     "data": {
      "image/png": "[encoded data removed]",
      "text/plain": [
       "<matplotlib.figure.Figure at 0xdec2780>"
      ]
     },
     "metadata": {},
     "output_type": "display_data"
    }
   ],
   "source": [
    "# Combine observations into a PyMC variable\n",
    "obs = pm.Bernoulli('obs', p, value=occurences, observed=True)\n",
    "# Run inference algorithm (Markov Chain Monte Carlo)\n",
    "mcmc = pm.MCMC([p, obs])\n",
    "mcmc.sample(18000, 1000)\n",
    "\n",
    "plt.figure(figsize=(12.5, 4))\n",
    "plt.title(\"Posterior distribution of $p_A$, the true effectiveness of site A\")\n",
    "plt.vlines(p_true, 0, 90, linestyle=\"--\", label=\"true $p_A$ (unknown)\")\n",
    "plt.hist(mcmc.trace(\"p\")[:], bins=25, histtype=\"stepfilled\", normed=True)\n",
    "plt.legend();"
   ]
  },
  {
   "cell_type": "markdown",
   "metadata": {},
   "source": [
    "### A and B together"
   ]
  },
  {
   "cell_type": "code",
   "execution_count": 115,
   "metadata": {
    "collapsed": true
   },
   "outputs": [],
   "source": [
    "# What's the difference between pA and pB?\n",
    "\n",
    "true_p_A = 0.1\n",
    "true_p_B = 0.04\n",
    "\n",
    "N_A = 1500\n",
    "N_B = 750\n",
    "\n",
    "observations_A = pm.rbernoulli(true_p_A, N_A)\n",
    "observations_B = pm.rbernoulli(true_p_B, N_B)"
   ]
  },
  {
   "cell_type": "code",
   "execution_count": 116,
   "metadata": {
    "collapsed": false
   },
   "outputs": [
    {
     "data": {
      "text/plain": [
       "0.097333333333333327"
      ]
     },
     "execution_count": 116,
     "metadata": {},
     "output_type": "execute_result"
    }
   ],
   "source": [
    "observations_A.mean()"
   ]
  },
  {
   "cell_type": "code",
   "execution_count": 117,
   "metadata": {
    "collapsed": false
   },
   "outputs": [
    {
     "data": {
      "text/plain": [
       "0.048000000000000001"
      ]
     },
     "execution_count": 117,
     "metadata": {},
     "output_type": "execute_result"
    }
   ],
   "source": [
    "observations_B.mean()"
   ]
  },
  {
   "cell_type": "code",
   "execution_count": 118,
   "metadata": {
    "collapsed": false
   },
   "outputs": [
    {
     "name": "stdout",
     "output_type": "stream",
     "text": [
      " [-----------------100%-----------------] 20000 of 20000 complete in 3.1 sec"
     ]
    }
   ],
   "source": [
    "# set up pymc model\n",
    "# Prior probabilities\n",
    "p_A = pm.Uniform('p_A', 0, 1) # because we don't know anything\n",
    "p_B = pm.Uniform('p_B', 0, 1)\n",
    "\n",
    "@pm.deterministic\n",
    "def delta(p_A=p_A, p_B=p_B):\n",
    "    return p_A - p_B\n",
    "\n",
    "# Observation variables\n",
    "obs_A = pm.Bernoulli('obs_A', p_A, value=observations_A, observed=True)\n",
    "obs_B = pm.Bernoulli('obs_B', p_B, value=observations_B, observed=True)\n",
    "\n",
    "# Inference algo\n",
    "mcmc = pm.MCMC([p_A, p_B, delta, obs_A, obs_B])\n",
    "mcmc.sample(20000, 1000)"
   ]
  },
  {
   "cell_type": "code",
   "execution_count": 119,
   "metadata": {
    "collapsed": false
   },
   "outputs": [
    {
     "data": {
      "image/png": "[encoded data removed]",
      "text/plain": [
       "<matplotlib.figure.Figure at 0xe4e6668>"
      ]
     },
     "metadata": {},
     "output_type": "display_data"
    }
   ],
   "source": [
    "p_A_samples = mcmc.trace('p_A')[:]\n",
    "p_B_samples = mcmc.trace('p_B')[:]\n",
    "delta_samples = mcmc.trace('delta')[:]\n",
    "\n",
    "plt.figure(figsize=(12.5, 10))\n",
    "\n",
    "# histogram of posteriors\n",
    "\n",
    "ax = plt.subplot(311)\n",
    "\n",
    "plt.xlim(0, .1)\n",
    "plt.hist(p_A_samples, histtype='stepfilled', bins=25, alpha=0.85,\n",
    "         label=\"posterior of $p_A$\", color=\"#A60628\", normed=True)\n",
    "plt.vlines(true_p_A, 0, 80, linestyle=\"--\", label=\"true $p_A$ (unknown)\")\n",
    "plt.legend(loc=\"upper right\")\n",
    "plt.title(\"Posterior distributions of $p_A$, $p_B$, and delta unknowns\")\n",
    "\n",
    "ax = plt.subplot(312)\n",
    "\n",
    "plt.xlim(0, .1)\n",
    "plt.hist(p_B_samples, histtype='stepfilled', bins=25, alpha=0.85,\n",
    "         label=\"posterior of $p_B$\", color=\"#467821\", normed=True)\n",
    "plt.vlines(true_p_B, 0, 80, linestyle=\"--\", label=\"true $p_B$ (unknown)\")\n",
    "plt.legend(loc=\"upper right\")\n",
    "\n",
    "ax = plt.subplot(313)\n",
    "plt.hist(delta_samples, histtype='stepfilled', bins=30, alpha=0.85,\n",
    "         label=\"posterior of delta\", color=\"#7A68A6\", normed=True)\n",
    "plt.vlines(true_p_A - true_p_B, 0, 60, linestyle=\"--\",\n",
    "           label=\"true delta (unknown)\")\n",
    "plt.vlines(0, 0, 60, color=\"black\", alpha=0.2)\n",
    "plt.legend(loc=\"upper right\");"
   ]
  },
  {
   "cell_type": "markdown",
   "metadata": {},
   "source": [
    "- Posterior of $p_A$ is lankier than the posterior of $p_B$: this is because we have more observations for site $A$."
   ]
  },
  {
   "cell_type": "code",
   "execution_count": 120,
   "metadata": {
    "collapsed": false
   },
   "outputs": [
    {
     "data": {
      "text/plain": [
       "0.0"
      ]
     },
     "execution_count": 120,
     "metadata": {},
     "output_type": "execute_result"
    }
   ],
   "source": [
    "(delta_samples < 0).mean() # Observations for which B > A"
   ]
  },
  {
   "cell_type": "code",
   "execution_count": 121,
   "metadata": {
    "collapsed": false
   },
   "outputs": [
    {
     "data": {
      "text/plain": [
       "1.0"
      ]
     },
     "execution_count": 121,
     "metadata": {},
     "output_type": "execute_result"
    }
   ],
   "source": [
    "(delta_samples > 0).mean() # Observations for which A > B"
   ]
  },
  {
   "cell_type": "markdown",
   "metadata": {},
   "source": [
    "Recap on what we did:\n",
    "- Randomly sampled prior probabilities for people buying from the sites from Uniform distributions\n",
    "- Incorporated synthetic observations into our model using Bernoulli variables for buy/did not buy\n",
    "- Ran a Markov Chain Monte Carlo simulation (magic?)\n",
    "- Resulted in distributions of posterior probabilities: the estimated p_A and p_B from the MCMC simulation.\n",
    "\n",
    "Bayesian inference $\\implies$ Updating our beliefs based on new information. Here we informed our beliefs that people would buy from sites A and B, and which site performs better."
   ]
  }
 ],
 "metadata": {
  "kernelspec": {
   "display_name": "Python [Root]",
   "language": "python",
   "name": "Python [Root]"
  },
  "language_info": {
   "codemirror_mode": {
    "name": "ipython",
    "version": 3
   },
   "file_extension": ".py",
   "mimetype": "text/x-python",
   "name": "python",
   "nbconvert_exporter": "python",
   "pygments_lexer": "ipython3",
   "version": "3.5.2"
  }
 },
 "nbformat": 4,
 "nbformat_minor": 0
}
