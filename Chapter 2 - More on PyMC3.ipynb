{
 "cells": [
  {
   "cell_type": "markdown",
   "metadata": {},
   "source": [
    "# Chapter 2: More on PyMC3"
   ]
  },
  {
   "cell_type": "markdown",
   "metadata": {},
   "source": [
    "### Model context"
   ]
  },
  {
   "cell_type": "code",
   "execution_count": 2,
   "metadata": {
    "collapsed": false
   },
   "outputs": [],
   "source": [
    "import pymc3 as pm\n",
    "\n",
    "with pm.Model() as model: # Variables defined in context are auto-assigned to a model\n",
    "    parameter = pm.Exponential('poisson_param', 1, testval=0.5)\n",
    "    data_generator = pm.Poisson('data_generator', parameter)"
   ]
  },
  {
   "cell_type": "markdown",
   "metadata": {},
   "source": [
    "`parameter` -> Exponentially distributed r.v.\n",
    "\n",
    "`data_generator` -> Poisson distributed r.v. with $\\lambda$=`parameter`"
   ]
  },
  {
   "cell_type": "code",
   "execution_count": 3,
   "metadata": {
    "collapsed": true
   },
   "outputs": [],
   "source": [
    "with model: # To pick up a model again later\n",
    "    data_plus_one = data_generator + 1 # Pois RV + 1"
   ]
  },
  {
   "cell_type": "code",
   "execution_count": 5,
   "metadata": {
    "collapsed": false
   },
   "outputs": [
    {
     "data": {
      "text/plain": [
       "array(0.49999999904767284)"
      ]
     },
     "execution_count": 5,
     "metadata": {},
     "output_type": "execute_result"
    }
   ],
   "source": [
    "# Can examine variables outside of model context\n",
    "parameter.tag.test_value # Initial value of variable\n",
    "# ^ Can be specified at variable creation time"
   ]
  },
  {
   "cell_type": "code",
   "execution_count": 6,
   "metadata": {
    "collapsed": true
   },
   "outputs": [],
   "source": [
    "# Manipulating a separate model:\n",
    "with pm.Model() as ab_testing:\n",
    "    sigma = pm.Normal('std', 0, 1)\n",
    "    p_A = pm.Uniform('p(A)', 0, 1)"
   ]
  },
  {
   "cell_type": "markdown",
   "metadata": {},
   "source": [
    "Types of programming variables in PyMC3:\n",
    "- Stochastic variables: variables drawn from a probability distribution (i.e. random variables).\n",
    "- Deterministic variables: variables that are not random if the variables' parameters and components are known."
   ]
  },
  {
   "cell_type": "markdown",
   "metadata": {},
   "source": [
    "### Stochastic Variables"
   ]
  },
  {
   "cell_type": "code",
   "execution_count": 10,
   "metadata": {
    "collapsed": false
   },
   "outputs": [],
   "source": [
    "with pm.Model() as model:\n",
    "    some_variable = pm.DiscreteUniform('discrete_uni_var', 0, 4)\n",
    "    # Name attribute is used to retrieve posterior distribution later\n",
    "    # Instead of initializing id. distr. variabels separately...\n",
    "    # beta_1 = pm.Uniform('beta_1', 0, 1)\n",
    "    # beta_2 = pm.Uniform('beta_2', 0, 1)\n",
    "    # ... use the 'shape' argument!\n",
    "    N = 10\n",
    "    betas = pm.Uniform('betas', 0, 1, shape=N)\n"
   ]
  },
  {
   "cell_type": "markdown",
   "metadata": {},
   "source": [
    "### Deterministic Variables"
   ]
  },
  {
   "cell_type": "code",
   "execution_count": 14,
   "metadata": {
    "collapsed": true
   },
   "outputs": [],
   "source": [
    "with model:\n",
    "    deterministic_variables = pm.Deterministic('deterministic variables',\n",
    "                                               some_variable*2)"
   ]
  },
  {
   "cell_type": "code",
   "execution_count": 15,
   "metadata": {
    "collapsed": true
   },
   "outputs": [],
   "source": [
    "with pm.Model() as model:\n",
    "    lambda_1 = pm.Exponential('lambda_1', 1)\n",
    "    lambda_2 = pm.Exponential('lambda_2', 1)\n",
    "    tau = pm.DiscreteUniform('tau', lower=0, upper=10)\n",
    "\n",
    "# Elementary operations implicitly create deterministic variables\n",
    "new_deterministic_variable = lambda_1 + lambda_2\n",
    "# if lambda_1 and lambda_2 are known, then we know new_det..."
   ]
  },
  {
   "cell_type": "code",
   "execution_count": 16,
   "metadata": {
    "collapsed": false
   },
   "outputs": [],
   "source": [
    "import numpy as np\n",
    "\n",
    "n_data_points = 5\n",
    "idx = np.arange(n_data_points)\n",
    "with model:\n",
    "    lambda_ = pm.math.switch(tau >= idx, lambda_1, lambda_2)\n",
    "    \n",
    "# lambda_ is deterministic\n",
    "# if we know tau, lambda_1, lambda_2, we know lambda_"
   ]
  },
  {
   "cell_type": "markdown",
   "metadata": {},
   "source": [
    "Stochastic variables behave like scalars/numpy arrays within deterministic variables -> can use Theano's tensor operations on them."
   ]
  },
  {
   "cell_type": "code",
   "execution_count": 17,
   "metadata": {
    "collapsed": false
   },
   "outputs": [],
   "source": [
    "def multiply(x, y):\n",
    "        return np.multiply(x, y) # Hadamard product\n",
    "\n",
    "with model:\n",
    "    stoch_1 = pm.Uniform('U_1', 0, 1)\n",
    "    stoch_2 = pm.Uniform('U_2', 0, 1)\n",
    "\n",
    "    det_1 = pm.Deterministic('Product', multiply(stoch_1, stoch_2))"
   ]
  }
 ],
 "metadata": {
  "kernelspec": {
   "display_name": "Python [Root]",
   "language": "python",
   "name": "Python [Root]"
  }
 },
 "nbformat": 4,
 "nbformat_minor": 0
}
